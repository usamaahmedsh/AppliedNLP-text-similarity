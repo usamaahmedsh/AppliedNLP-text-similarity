{
 "cells": [
  {
   "cell_type": "markdown",
   "id": "14d5916c",
   "metadata": {
    "deletable": false,
    "editable": false
   },
   "source": [
    "# Semantic Textual Similarity\n",
    "\n",
    "In this assignment, you will work on the [Semantic Textual Similarity](https://alt.qcri.org/semeval2017/task1/) (STS) shared task organized within the 2017 editions of SemEval. The goal of the task is to measure the meaning similarity of sentence-pairs in English, Spanish and Arabic as well as cross-lingual pairings of English with sentences in Arabic, Spanish and Turkish. In particular, you will focus on solving STS for English sentence-pairs. The task involves producing real-valued similarity scores\n",
    "ranging from 0 for complete dissimilar sentences to 5 for completely equivalent sentences, as can be seen in the following examples:\n",
    "\n",
    "| Sentence 1                                              | Sentence 2                                            | Score |\n",
    "| :---                                                    | :----                                                 | ---:  |\n",
    "| The bird is bathing in the sink.                        | Birdie is washing itself in the water basin.          |   5   |\n",
    "| John said he is considered a witness but not a suspect. | “He is not a suspect anymore.” John said.             |   3   |\n",
    "| The black dog is running through the snow.              | A race car driver is driving his car through the mud. |   0   |\n",
    "\n",
    "\n",
    "You will try two different approaches to solve STS: Cosine Similarity and Word Mover's Distance. You will work with [gensim](https://radimrehurek.com/gensim/), a **Python** library that provides functionality to obtain text representations based on word embeddings and calculate their semantic similarity. Specifically, you will use the following objects and functions:"
   ]
  },
  {
   "cell_type": "code",
   "execution_count": 21,
   "id": "43a02dd2",
   "metadata": {
    "deletable": false,
    "editable": false
   },
   "outputs": [],
   "source": [
    "import spacy\n",
    "import numpy as np\n",
    "import pandas as pd\n",
    "import gensim.downloader as api\n",
    "from sklearn.preprocessing import minmax_scale\n",
    "from scipy.stats import pearsonr"
   ]
  },
  {
   "cell_type": "markdown",
   "id": "29a75a01",
   "metadata": {
    "deletable": false,
    "editable": false
   },
   "source": [
    "The data for the assignment consists of 250 sentences pairs with their corresponding similarity scores. The dataset can be loaded into a `DataFrame` as follows:"
   ]
  },
  {
   "cell_type": "code",
   "execution_count": 22,
   "id": "785bd4d4",
   "metadata": {
    "deletable": false,
    "editable": false
   },
   "outputs": [
    {
     "data": {
      "text/html": [
       "<div>\n",
       "<style scoped>\n",
       "    .dataframe tbody tr th:only-of-type {\n",
       "        vertical-align: middle;\n",
       "    }\n",
       "\n",
       "    .dataframe tbody tr th {\n",
       "        vertical-align: top;\n",
       "    }\n",
       "\n",
       "    .dataframe thead th {\n",
       "        text-align: right;\n",
       "    }\n",
       "</style>\n",
       "<table border=\"1\" class=\"dataframe\">\n",
       "  <thead>\n",
       "    <tr style=\"text-align: right;\">\n",
       "      <th></th>\n",
       "      <th>sent1</th>\n",
       "      <th>sent2</th>\n",
       "      <th>gold</th>\n",
       "    </tr>\n",
       "  </thead>\n",
       "  <tbody>\n",
       "    <tr>\n",
       "      <th>0</th>\n",
       "      <td>A person is on a baseball team.</td>\n",
       "      <td>A person is playing basketball on a team.</td>\n",
       "      <td>2.4</td>\n",
       "    </tr>\n",
       "    <tr>\n",
       "      <th>1</th>\n",
       "      <td>Our current vehicles will be in museums when e...</td>\n",
       "      <td>The car needs to some work</td>\n",
       "      <td>0.2</td>\n",
       "    </tr>\n",
       "    <tr>\n",
       "      <th>2</th>\n",
       "      <td>A woman supervisor is instructing the male wor...</td>\n",
       "      <td>A woman is working as a nurse.</td>\n",
       "      <td>1.0</td>\n",
       "    </tr>\n",
       "    <tr>\n",
       "      <th>3</th>\n",
       "      <td>A bike is next to a couple women.</td>\n",
       "      <td>A child next to a bike.</td>\n",
       "      <td>2.0</td>\n",
       "    </tr>\n",
       "    <tr>\n",
       "      <th>4</th>\n",
       "      <td>The group is eating while taking in a breathta...</td>\n",
       "      <td>A group of people take a look at an unusual tree.</td>\n",
       "      <td>2.2</td>\n",
       "    </tr>\n",
       "    <tr>\n",
       "      <th>...</th>\n",
       "      <td>...</td>\n",
       "      <td>...</td>\n",
       "      <td>...</td>\n",
       "    </tr>\n",
       "    <tr>\n",
       "      <th>245</th>\n",
       "      <td>A brown dog is jumping.</td>\n",
       "      <td>A brown dog is jumping</td>\n",
       "      <td>5.0</td>\n",
       "    </tr>\n",
       "    <tr>\n",
       "      <th>246</th>\n",
       "      <td>the man is catching a ball</td>\n",
       "      <td>A man is kicking a ball.</td>\n",
       "      <td>3.0</td>\n",
       "    </tr>\n",
       "    <tr>\n",
       "      <th>247</th>\n",
       "      <td>Two men are sitting in the room.</td>\n",
       "      <td>Two men are standing in a room.</td>\n",
       "      <td>3.0</td>\n",
       "    </tr>\n",
       "    <tr>\n",
       "      <th>248</th>\n",
       "      <td>A group of teenagers in red shirts are smiling.</td>\n",
       "      <td>A group of people are wearing orange shirts.</td>\n",
       "      <td>1.2</td>\n",
       "    </tr>\n",
       "    <tr>\n",
       "      <th>249</th>\n",
       "      <td>The woman is waiting for her date.</td>\n",
       "      <td>The woman is on her way to a date.</td>\n",
       "      <td>3.2</td>\n",
       "    </tr>\n",
       "  </tbody>\n",
       "</table>\n",
       "<p>250 rows × 3 columns</p>\n",
       "</div>"
      ],
      "text/plain": [
       "                                                 sent1  \\\n",
       "0                      A person is on a baseball team.   \n",
       "1    Our current vehicles will be in museums when e...   \n",
       "2    A woman supervisor is instructing the male wor...   \n",
       "3                    A bike is next to a couple women.   \n",
       "4    The group is eating while taking in a breathta...   \n",
       "..                                                 ...   \n",
       "245                            A brown dog is jumping.   \n",
       "246                         the man is catching a ball   \n",
       "247                   Two men are sitting in the room.   \n",
       "248    A group of teenagers in red shirts are smiling.   \n",
       "249                 The woman is waiting for her date.   \n",
       "\n",
       "                                                 sent2  gold  \n",
       "0            A person is playing basketball on a team.   2.4  \n",
       "1                           The car needs to some work   0.2  \n",
       "2                       A woman is working as a nurse.   1.0  \n",
       "3                              A child next to a bike.   2.0  \n",
       "4    A group of people take a look at an unusual tree.   2.2  \n",
       "..                                                 ...   ...  \n",
       "245                             A brown dog is jumping   5.0  \n",
       "246                           A man is kicking a ball.   3.0  \n",
       "247                    Two men are standing in a room.   3.0  \n",
       "248       A group of people are wearing orange shirts.   1.2  \n",
       "249                 The woman is on her way to a date.   3.2  \n",
       "\n",
       "[250 rows x 3 columns]"
      ]
     },
     "execution_count": 22,
     "metadata": {},
     "output_type": "execute_result"
    }
   ],
   "source": [
    "data = pd.read_csv(\"data.tsv\", sep=\"\\t\")\n",
    "data"
   ]
  },
  {
   "cell_type": "markdown",
   "id": "b32e9ae4",
   "metadata": {
    "deletable": false,
    "editable": false
   },
   "source": [
    "## Data Pre-processing\n",
    "\n",
    "In order to apply the methods provided by the **gensim** library, you first need to pre-process and convert the text into a proper format. In this exercise, you will have to tokenize and lemmatize the input sentences. For this, you will work with the [English pipeline optimized for CPU](https://spacy.io/models/en#en_core_web_sm) that can be loaded as follows:"
   ]
  },
  {
   "cell_type": "code",
   "execution_count": 23,
   "id": "ce331d9e",
   "metadata": {
    "deletable": false,
    "editable": false
   },
   "outputs": [],
   "source": [
    "nlp = spacy.load(\"en_core_web_sm\")"
   ]
  },
  {
   "cell_type": "markdown",
   "id": "98ab6301",
   "metadata": {
    "deletable": false,
    "editable": false
   },
   "source": [
    "You must complete the code for the `process_sentences` function that takes as input a `list` of sentences and the  a **spaCy** pipeline. The function should tokenize each sentence in the list, obtain the lemma for each token and filter out stop-words and punctuations.\n",
    "Check the [spaCy 101](https://spacy.io/usage/spacy-101) and the [Token](https://spacy.io/api/token) documentation to learn how to apply the pipeline for this exercise.\n",
    "The `process_sentences` function must return a `list` where each item corresponds to a sentence in the form of a `list` of filtered lemmas as in the following examples:\n",
    "\n",
    "> <pre>\n",
    "*** Processed 1st Sentences ***\n",
    "[['person', 'baseball', 'team'], ['current', 'vehicle', 'museum', 'aircraft'], ['woman', 'supervisor', 'instruct', 'male', 'worker'], ['bike', 'couple', 'woman'], ['group', 'eat', 'take', 'breathtaking', 'view'], ['boy', 'raise', 'hand'], ['man', 'gray', 'beard', 'shave', 'lecture', 'hall'], ['sky', 'little', 'cloud'], ['young', 'boy', 'jump', 'barefoot', 'outside', 'yard'], ['dog', 'forest']]\n",
    ">\n",
    "> *** Processed 2nd Sentences ***\n",
    "[['person', 'play', 'basketball', 'team'], ['car', 'need', 'work'], ['woman', 'work', 'nurse'], ['child', 'bike'], ['group', 'people', 'look', 'unusual', 'tree'], ['man', 'raise', 'hand'], ['man', 'beard', 'sit', 'grass'], ['Lady', 'ready', 'Rock', 'Climbing', 'watch', 'Clouds'], ['teen', 'ride', 'bike', 'people', 'walk', 'courtyard'], ['dog', 'forest']]\n",
    "</pre>\n"
   ]
  },
  {
   "cell_type": "code",
   "execution_count": 24,
   "id": "110d37f8",
   "metadata": {},
   "outputs": [],
   "source": [
    "def process_sentences(sentences, nlp):\n",
    "\n",
    "    tokenized_sentence = []\n",
    "    \n",
    "    for sentence in sentences:\n",
    "        tokens = []\n",
    "        doc = nlp(sentence)\n",
    "        for token in doc:\n",
    "            if token.is_stop == False and token.is_punct == False:\n",
    "                tokens.append(token.lemma_)\n",
    "        tokenized_sentence.append(tokens)\n",
    "\n",
    "    return tokenized_sentence"
   ]
  },
  {
   "cell_type": "markdown",
   "id": "cc54a2dd",
   "metadata": {
    "deletable": false,
    "editable": false
   },
   "source": [
    "The `process_sentences` function can now be applied on the list of the 1st sentences and the list of the 2nd sentences of the pairs respectively. The resulting `sent1_processed` and `sent2_processed` will have the same siz and items with the same index will correspond to sentences from the same pair, e.g., `sent1_processed[1]` and `sent2_processed1[1]` contain the 1st and 2nd sentences of the same pair."
   ]
  },
  {
   "cell_type": "code",
   "execution_count": 25,
   "id": "864b6cd9-37e1-43fd-a54a-ef8854c94b2e",
   "metadata": {},
   "outputs": [
    {
     "name": "stdout",
     "output_type": "stream",
     "text": [
      "*** Processed 1st Sentences ***\n",
      "[['person', 'baseball', 'team'], ['current', 'vehicle', 'museum', 'aircraft'], ['woman', 'supervisor', 'instruct', 'male', 'worker'], ['bike', 'couple', 'woman'], ['group', 'eat', 'take', 'breathtaking', 'view'], ['boy', 'raise', 'hand'], ['man', 'gray', 'beard', 'shave', 'lecture', 'hall'], ['sky', 'little', 'cloud'], ['young', 'boy', 'jump', 'barefoot', 'outside', 'yard'], ['dog', 'forest']]\n",
      "\n",
      "*** Processed 2nd Sentences ***\n",
      "[['person', 'play', 'basketball', 'team'], ['car', 'need', 'work'], ['woman', 'work', 'nurse'], ['child', 'bike'], ['group', 'people', 'look', 'unusual', 'tree'], ['man', 'raise', 'hand'], ['man', 'beard', 'sit', 'grass'], ['Lady', 'ready', 'Rock', 'Climbing', 'watch', 'Clouds'], ['teen', 'ride', 'bike', 'people', 'walk', 'courtyard'], ['dog', 'forest']]\n",
      "\n"
     ]
    }
   ],
   "source": [
    "sent1_processed = process_sentences(data[\"sent1\"].values, nlp)\n",
    "sent2_processed = process_sentences(data[\"sent2\"].values, nlp)\n",
    "print(\"*** Processed 1st Sentences ***\")\n",
    "print(sent1_processed[:10])\n",
    "print(\"\")\n",
    "print(\"*** Processed 2nd Sentences ***\")\n",
    "print(sent2_processed[:10])\n",
    "print(\"\")"
   ]
  },
  {
   "cell_type": "markdown",
   "id": "d64ff0cf",
   "metadata": {
    "deletable": false,
    "editable": false,
    "slideshow": {
     "slide_type": ""
    },
    "tags": []
   },
   "source": [
    "## Cosine Similarity\n",
    "\n",
    "The first technique you will apply consist of calculating the similarity of two sentences by computing the cosine of the sentence embeddings, which can be obtained by, for example, averaging the embeddings of the words in the sentences. The [KeyedVectors](https://radimrehurek.com/gensim/models/keyedvectors.html) module of **gensim** is a straightforward way to obtain and operate with word embeddings. The library provides access to different [word embedding models](https://github.com/RaRe-Technologies/gensim-data). In this assignment, you will work with the 300 dimensional version of the GloVe embeddings pre-trained on the union of *Wikipedia* and the *GigaWord* corpus. Therefore, your first step is to download and load them.\n",
    "\n",
    "> **Note!** Loading a large word embedding model may take some time. Besides, the first time the **gensim** library loads a model it has to download it first, which makes the process take even longer. For debugging, you can replace the large model `glove-wiki-gigaword-300` with a smaller one like `glove-twitter-25`.\n",
    "\n",
    "You must complete the code for the `load_model` function. The function takes the name of the word embeddings model you want to obtain and it should download, load and return such model. For this, you should use the [downloader](https://radimrehurek.com/gensim/downloader.html) API. The functions should return a [KeyedVectors](https://radimrehurek.com/gensim/models/keyedvectors.html) structure that contains embeddings of 300 dimensions for a vocabulary of size 400000. \n",
    "\n",
    "> Model shape: (400000, 300) "
   ]
  },
  {
   "cell_type": "code",
   "execution_count": 26,
   "id": "07f92a24",
   "metadata": {},
   "outputs": [],
   "source": [
    "def load_model(model_name):\n",
    "\n",
    "    model = api.load(model_name)\n",
    "\n",
    "    return model"
   ]
  },
  {
   "cell_type": "code",
   "execution_count": 27,
   "id": "b6ab5ffc",
   "metadata": {
    "deletable": false,
    "slideshow": {
     "slide_type": ""
    },
    "tags": []
   },
   "outputs": [
    {
     "name": "stdout",
     "output_type": "stream",
     "text": [
      "Model shape: (400000, 300)\n"
     ]
    }
   ],
   "source": [
    "model = load_model(\"glove-wiki-gigaword-300\")\n",
    "print(\"Model shape: (%s, %s)\" % model.vectors.shape)"
   ]
  },
  {
   "cell_type": "markdown",
   "id": "b350d27d",
   "metadata": {
    "deletable": false,
    "editable": false
   },
   "source": [
    "Once the word embedding model has been loaded, it can be used to obtain a vector representation of the sentences and calculate their cosine similarity.\n",
    "\n",
    "You must complete the code for the `cosine_similarity` function. The function takes as input the list of 1st sentences, the list of 2nd sentences and the word embedding model obtained by the `load_model` function.  The `cosine_similarity` function must obtain an embedding for each sentence by averaging the word embedding of the lemmas, and calculate the cosine similarity for each pair of sentences. Check the [KeyedVectors](https://radimrehurek.com/gensim/models/keyedvectors.html) documentation to learn what methods allow getting a mean vector given a list of words and computing the cosine similarities between vectors. The function must return a `list` of real-valued scores where each item corresponds to a sentence pair. This list can then be stored in the `prediction` column of `data`:\n",
    "\n",
    "\n",
    "|     | sent1                                                                                          | sent2                                                                                                 |   gold |   prediction |\n",
    "|----:|:-----------------------------------------------------------------------------------------------|:------------------------------------------------------------------------------------------------------|-------:|-------------:|\n",
    "|   0 | A person is on a baseball team.                                                                | A person is playing basketball on a team.                                                             |    2.4 |     0.902706 |\n",
    "|   1 | Our current vehicles will be in museums when everyone has their own aircraft.                  | The car needs to some work                                                                            |    0.2 |     0.597748 |\n",
    "|   2 | A woman supervisor is instructing the male workers.                                            | A woman is working as a nurse.                                                                        |    1   |     0.761507 |\n",
    "|   3 | A bike is next to a couple women.                                                              | A child next to a bike.                                                                               |    2   |     0.761056 |\n",
    "|   4 | The group is eating while taking in a breathtaking view.                                       | A group of people take a look at an unusual tree.                                                     |    2.2 |     0.767762 |\n",
    "| ... | ... | ... | ... | ... |\n",
    "| 245 | A brown dog is jumping.                                                                        | A brown dog is jumping                                                                                |    5   |     1.000000 |\n",
    "| 246 | the man is catching a ball                                                                     | A man is kicking a ball.                                                                              |    3   |     0.874216 |\n",
    "| 247 | Two men are sitting in the room.                                                               | Two men are standing in a room.                                                                       |    3   |     0.916421 |\n",
    "| 248 | A group of teenagers in red shirts are smiling.                                                | A group of people are wearing orange shirts.                                                          |    1.2 |     0.769548 |\n",
    "| 249 | The woman is waiting for her date.                                                             | The woman is on her way to a date.                                                                    |    3.2 |     0.880878 |"
   ]
  },
  {
   "cell_type": "code",
   "execution_count": 63,
   "id": "ee11ca41",
   "metadata": {},
   "outputs": [],
   "source": [
    "def cosine_similarity(sent1_processed, sent2_processed, model):\n",
    "    \n",
    "    similarities = []\n",
    "\n",
    "    for i,j in zip(sent1_processed, sent2_processed):\n",
    "        \n",
    "        vec1 = model.get_mean_vector(i)\n",
    "        vec2 = model.get_mean_vector(j)\n",
    "        \n",
    "        cosine_sim = model.cosine_similarities(vec1, [vec2])[0]\n",
    "        \n",
    "        similarities.append(cosine_sim)\n",
    "    \n",
    "    return similarities"
   ]
  },
  {
   "cell_type": "code",
   "execution_count": 64,
   "id": "f46a9bbc",
   "metadata": {
    "deletable": false,
    "editable": false
   },
   "outputs": [
    {
     "data": {
      "text/html": [
       "<div>\n",
       "<style scoped>\n",
       "    .dataframe tbody tr th:only-of-type {\n",
       "        vertical-align: middle;\n",
       "    }\n",
       "\n",
       "    .dataframe tbody tr th {\n",
       "        vertical-align: top;\n",
       "    }\n",
       "\n",
       "    .dataframe thead th {\n",
       "        text-align: right;\n",
       "    }\n",
       "</style>\n",
       "<table border=\"1\" class=\"dataframe\">\n",
       "  <thead>\n",
       "    <tr style=\"text-align: right;\">\n",
       "      <th></th>\n",
       "      <th>sent1</th>\n",
       "      <th>sent2</th>\n",
       "      <th>gold</th>\n",
       "      <th>prediction</th>\n",
       "    </tr>\n",
       "  </thead>\n",
       "  <tbody>\n",
       "    <tr>\n",
       "      <th>0</th>\n",
       "      <td>A person is on a baseball team.</td>\n",
       "      <td>A person is playing basketball on a team.</td>\n",
       "      <td>2.4</td>\n",
       "      <td>0.902706</td>\n",
       "    </tr>\n",
       "    <tr>\n",
       "      <th>1</th>\n",
       "      <td>Our current vehicles will be in museums when e...</td>\n",
       "      <td>The car needs to some work</td>\n",
       "      <td>0.2</td>\n",
       "      <td>0.597748</td>\n",
       "    </tr>\n",
       "    <tr>\n",
       "      <th>2</th>\n",
       "      <td>A woman supervisor is instructing the male wor...</td>\n",
       "      <td>A woman is working as a nurse.</td>\n",
       "      <td>1.0</td>\n",
       "      <td>0.761507</td>\n",
       "    </tr>\n",
       "    <tr>\n",
       "      <th>3</th>\n",
       "      <td>A bike is next to a couple women.</td>\n",
       "      <td>A child next to a bike.</td>\n",
       "      <td>2.0</td>\n",
       "      <td>0.761056</td>\n",
       "    </tr>\n",
       "    <tr>\n",
       "      <th>4</th>\n",
       "      <td>The group is eating while taking in a breathta...</td>\n",
       "      <td>A group of people take a look at an unusual tree.</td>\n",
       "      <td>2.2</td>\n",
       "      <td>0.767762</td>\n",
       "    </tr>\n",
       "    <tr>\n",
       "      <th>...</th>\n",
       "      <td>...</td>\n",
       "      <td>...</td>\n",
       "      <td>...</td>\n",
       "      <td>...</td>\n",
       "    </tr>\n",
       "    <tr>\n",
       "      <th>245</th>\n",
       "      <td>A brown dog is jumping.</td>\n",
       "      <td>A brown dog is jumping</td>\n",
       "      <td>5.0</td>\n",
       "      <td>1.000000</td>\n",
       "    </tr>\n",
       "    <tr>\n",
       "      <th>246</th>\n",
       "      <td>the man is catching a ball</td>\n",
       "      <td>A man is kicking a ball.</td>\n",
       "      <td>3.0</td>\n",
       "      <td>0.874216</td>\n",
       "    </tr>\n",
       "    <tr>\n",
       "      <th>247</th>\n",
       "      <td>Two men are sitting in the room.</td>\n",
       "      <td>Two men are standing in a room.</td>\n",
       "      <td>3.0</td>\n",
       "      <td>0.916421</td>\n",
       "    </tr>\n",
       "    <tr>\n",
       "      <th>248</th>\n",
       "      <td>A group of teenagers in red shirts are smiling.</td>\n",
       "      <td>A group of people are wearing orange shirts.</td>\n",
       "      <td>1.2</td>\n",
       "      <td>0.769548</td>\n",
       "    </tr>\n",
       "    <tr>\n",
       "      <th>249</th>\n",
       "      <td>The woman is waiting for her date.</td>\n",
       "      <td>The woman is on her way to a date.</td>\n",
       "      <td>3.2</td>\n",
       "      <td>0.880878</td>\n",
       "    </tr>\n",
       "  </tbody>\n",
       "</table>\n",
       "<p>250 rows × 4 columns</p>\n",
       "</div>"
      ],
      "text/plain": [
       "                                                 sent1  \\\n",
       "0                      A person is on a baseball team.   \n",
       "1    Our current vehicles will be in museums when e...   \n",
       "2    A woman supervisor is instructing the male wor...   \n",
       "3                    A bike is next to a couple women.   \n",
       "4    The group is eating while taking in a breathta...   \n",
       "..                                                 ...   \n",
       "245                            A brown dog is jumping.   \n",
       "246                         the man is catching a ball   \n",
       "247                   Two men are sitting in the room.   \n",
       "248    A group of teenagers in red shirts are smiling.   \n",
       "249                 The woman is waiting for her date.   \n",
       "\n",
       "                                                 sent2  gold  prediction  \n",
       "0            A person is playing basketball on a team.   2.4    0.902706  \n",
       "1                           The car needs to some work   0.2    0.597748  \n",
       "2                       A woman is working as a nurse.   1.0    0.761507  \n",
       "3                              A child next to a bike.   2.0    0.761056  \n",
       "4    A group of people take a look at an unusual tree.   2.2    0.767762  \n",
       "..                                                 ...   ...         ...  \n",
       "245                             A brown dog is jumping   5.0    1.000000  \n",
       "246                           A man is kicking a ball.   3.0    0.874216  \n",
       "247                    Two men are standing in a room.   3.0    0.916421  \n",
       "248       A group of people are wearing orange shirts.   1.2    0.769548  \n",
       "249                 The woman is on her way to a date.   3.2    0.880878  \n",
       "\n",
       "[250 rows x 4 columns]"
      ]
     },
     "execution_count": 64,
     "metadata": {},
     "output_type": "execute_result"
    }
   ],
   "source": [
    "data[\"prediction\"] = cosine_similarity(sent1_processed, sent2_processed, model)\n",
    "data"
   ]
  },
  {
   "cell_type": "markdown",
   "id": "7c6074b7",
   "metadata": {
    "deletable": false,
    "editable": false
   },
   "source": [
    "The values obtained by the `cosine_similarity` function range from 0 to 1, while the manually annotated score range from 0 to 5. Although not strictly necessary, scaling the predicted similarity scores to the same range used by the annotators can help visualize and interpret the results.\n",
    "\n",
    "You must complete the code for the `scale_similarities` function. The function takes a list of real values and should scale them to the `[0, 5]` range. The function should also round the resulting values to 1 decimal. You can use the [minmax_scale](https://scikit-learn.org/stable/modules/generated/sklearn.preprocessing.minmax_scale.html) function of the **sklearn** library and the [round](https://numpy.org/doc/1.13/reference/generated/numpy.round_.html) method of **numpy**. The `scale_similarities` function must return the `list` of the scaled real-valued scores that can replace the values in the `prediction` column of `data`:\n",
    "\n",
    "\n",
    "|     | sent1                                                                                          | sent2                                                                                                 |   gold |   prediction |\n",
    "|----:|:-----------------------------------------------------------------------------------------------|:------------------------------------------------------------------------------------------------------|-------:|-------------:|\n",
    "|   0 | A person is on a baseball team.                                                                | A person is playing basketball on a team.                                                             |    2.4 |          4.4 |\n",
    "|   1 | Our current vehicles will be in museums when everyone has their own aircraft.                  | The car needs to some work                                                                            |    0.2 |          2.5 |\n",
    "|   2 | A woman supervisor is instructing the male workers.                                            | A woman is working as a nurse.                                                                        |    1   |          3.5 |\n",
    "|   3 | A bike is next to a couple women.                                                              | A child next to a bike.                                                                               |    2   |          3.5 |\n",
    "|   4 | The group is eating while taking in a breathtaking view.                                       | A group of people take a look at an unusual tree.                                                     |    2.2 |          3.6 |\n",
    "| ... | ... | ... | ... | ... |\n",
    "| 245 | A brown dog is jumping.                                                                        | A brown dog is jumping                                                                                |    5   |          5   |\n",
    "| 246 | the man is catching a ball                                                                     | A man is kicking a ball.                                                                              |    3   |          4.2 |\n",
    "| 247 | Two men are sitting in the room.                                                               | Two men are standing in a room.                                                                       |    3   |          4.5 |\n",
    "| 248 | A group of teenagers in red shirts are smiling.                                                | A group of people are wearing orange shirts.                                                          |    1.2 |          3.6 |\n",
    "| 249 | The woman is waiting for her date.                                                             | The woman is on her way to a date.                                                                    |    3.2 |          4.3 |"
   ]
  },
  {
   "cell_type": "code",
   "execution_count": 65,
   "id": "50c7dee1",
   "metadata": {},
   "outputs": [],
   "source": [
    "def scale_similarities(similarities):\n",
    "\n",
    "    scale_values = minmax_scale(similarities, feature_range = (0,5))\n",
    "    round_values = np.round(scale_values, 1)\n",
    "\n",
    "    return round_values"
   ]
  },
  {
   "cell_type": "code",
   "execution_count": 66,
   "id": "2af6efb9",
   "metadata": {
    "deletable": false,
    "editable": false
   },
   "outputs": [
    {
     "data": {
      "text/html": [
       "<div>\n",
       "<style scoped>\n",
       "    .dataframe tbody tr th:only-of-type {\n",
       "        vertical-align: middle;\n",
       "    }\n",
       "\n",
       "    .dataframe tbody tr th {\n",
       "        vertical-align: top;\n",
       "    }\n",
       "\n",
       "    .dataframe thead th {\n",
       "        text-align: right;\n",
       "    }\n",
       "</style>\n",
       "<table border=\"1\" class=\"dataframe\">\n",
       "  <thead>\n",
       "    <tr style=\"text-align: right;\">\n",
       "      <th></th>\n",
       "      <th>sent1</th>\n",
       "      <th>sent2</th>\n",
       "      <th>gold</th>\n",
       "      <th>prediction</th>\n",
       "    </tr>\n",
       "  </thead>\n",
       "  <tbody>\n",
       "    <tr>\n",
       "      <th>0</th>\n",
       "      <td>A person is on a baseball team.</td>\n",
       "      <td>A person is playing basketball on a team.</td>\n",
       "      <td>2.4</td>\n",
       "      <td>4.4</td>\n",
       "    </tr>\n",
       "    <tr>\n",
       "      <th>1</th>\n",
       "      <td>Our current vehicles will be in museums when e...</td>\n",
       "      <td>The car needs to some work</td>\n",
       "      <td>0.2</td>\n",
       "      <td>2.5</td>\n",
       "    </tr>\n",
       "    <tr>\n",
       "      <th>2</th>\n",
       "      <td>A woman supervisor is instructing the male wor...</td>\n",
       "      <td>A woman is working as a nurse.</td>\n",
       "      <td>1.0</td>\n",
       "      <td>3.5</td>\n",
       "    </tr>\n",
       "    <tr>\n",
       "      <th>3</th>\n",
       "      <td>A bike is next to a couple women.</td>\n",
       "      <td>A child next to a bike.</td>\n",
       "      <td>2.0</td>\n",
       "      <td>3.5</td>\n",
       "    </tr>\n",
       "    <tr>\n",
       "      <th>4</th>\n",
       "      <td>The group is eating while taking in a breathta...</td>\n",
       "      <td>A group of people take a look at an unusual tree.</td>\n",
       "      <td>2.2</td>\n",
       "      <td>3.6</td>\n",
       "    </tr>\n",
       "    <tr>\n",
       "      <th>...</th>\n",
       "      <td>...</td>\n",
       "      <td>...</td>\n",
       "      <td>...</td>\n",
       "      <td>...</td>\n",
       "    </tr>\n",
       "    <tr>\n",
       "      <th>245</th>\n",
       "      <td>A brown dog is jumping.</td>\n",
       "      <td>A brown dog is jumping</td>\n",
       "      <td>5.0</td>\n",
       "      <td>5.0</td>\n",
       "    </tr>\n",
       "    <tr>\n",
       "      <th>246</th>\n",
       "      <td>the man is catching a ball</td>\n",
       "      <td>A man is kicking a ball.</td>\n",
       "      <td>3.0</td>\n",
       "      <td>4.2</td>\n",
       "    </tr>\n",
       "    <tr>\n",
       "      <th>247</th>\n",
       "      <td>Two men are sitting in the room.</td>\n",
       "      <td>Two men are standing in a room.</td>\n",
       "      <td>3.0</td>\n",
       "      <td>4.5</td>\n",
       "    </tr>\n",
       "    <tr>\n",
       "      <th>248</th>\n",
       "      <td>A group of teenagers in red shirts are smiling.</td>\n",
       "      <td>A group of people are wearing orange shirts.</td>\n",
       "      <td>1.2</td>\n",
       "      <td>3.6</td>\n",
       "    </tr>\n",
       "    <tr>\n",
       "      <th>249</th>\n",
       "      <td>The woman is waiting for her date.</td>\n",
       "      <td>The woman is on her way to a date.</td>\n",
       "      <td>3.2</td>\n",
       "      <td>4.3</td>\n",
       "    </tr>\n",
       "  </tbody>\n",
       "</table>\n",
       "<p>250 rows × 4 columns</p>\n",
       "</div>"
      ],
      "text/plain": [
       "                                                 sent1  \\\n",
       "0                      A person is on a baseball team.   \n",
       "1    Our current vehicles will be in museums when e...   \n",
       "2    A woman supervisor is instructing the male wor...   \n",
       "3                    A bike is next to a couple women.   \n",
       "4    The group is eating while taking in a breathta...   \n",
       "..                                                 ...   \n",
       "245                            A brown dog is jumping.   \n",
       "246                         the man is catching a ball   \n",
       "247                   Two men are sitting in the room.   \n",
       "248    A group of teenagers in red shirts are smiling.   \n",
       "249                 The woman is waiting for her date.   \n",
       "\n",
       "                                                 sent2  gold  prediction  \n",
       "0            A person is playing basketball on a team.   2.4         4.4  \n",
       "1                           The car needs to some work   0.2         2.5  \n",
       "2                       A woman is working as a nurse.   1.0         3.5  \n",
       "3                              A child next to a bike.   2.0         3.5  \n",
       "4    A group of people take a look at an unusual tree.   2.2         3.6  \n",
       "..                                                 ...   ...         ...  \n",
       "245                             A brown dog is jumping   5.0         5.0  \n",
       "246                           A man is kicking a ball.   3.0         4.2  \n",
       "247                    Two men are standing in a room.   3.0         4.5  \n",
       "248       A group of people are wearing orange shirts.   1.2         3.6  \n",
       "249                 The woman is on her way to a date.   3.2         4.3  \n",
       "\n",
       "[250 rows x 4 columns]"
      ]
     },
     "execution_count": 66,
     "metadata": {},
     "output_type": "execute_result"
    }
   ],
   "source": [
    "data[\"prediction\"] = scale_similarities(data[\"prediction\"].values)\n",
    "data"
   ]
  },
  {
   "cell_type": "markdown",
   "id": "bb91af05",
   "metadata": {
    "deletable": false,
    "editable": false
   },
   "source": [
    "The STS task can be evaluated using Pearson's correlation to measure the linear relationship between the predicted scores and the manual annotations. The predictions obtained with cosine similarity should results in the following correlation:\n",
    "\n",
    "\n",
    "> Pearson correlation: 0.688"
   ]
  },
  {
   "cell_type": "code",
   "execution_count": 69,
   "id": "0f1f8f5e",
   "metadata": {
    "deletable": false,
    "editable": false
   },
   "outputs": [],
   "source": [
    "def evaluate(data):\n",
    "    score = pearsonr(data[\"gold\"], data[\"prediction\"])[0]\n",
    "    print(\"Pearson correlation: %.3f\" % score)"
   ]
  },
  {
   "cell_type": "code",
   "execution_count": 70,
   "id": "0e8e8c7e",
   "metadata": {
    "deletable": false,
    "editable": false
   },
   "outputs": [
    {
     "name": "stdout",
     "output_type": "stream",
     "text": [
      "Pearson correlation: 0.688\n"
     ]
    }
   ],
   "source": [
    "evaluate(data)"
   ]
  },
  {
   "cell_type": "markdown",
   "id": "532798c0",
   "metadata": {
    "deletable": false,
    "editable": false
   },
   "source": [
    "## Word Movers Distance\n",
    "\n",
    "Applying cosine similarity to sentences requires selecting some strategy to aggregate the embeddings of the words, be it the average, sum or other. Alternatively, this constraint can be avoided by applying techniques that work directly on the word embeddings such as Word Mover's Distance. In the last part of this assignment, you will try the Word Mover's Distance using **gensim**.\n",
    "\n",
    "> **Note!** *Similarity* refers to how related two vectors are while *distance* refers to how far apart they are. Therefore, the values returned by Word Mover's Distance must be updated accordingly to reflect *similarity*.\n",
    "\n",
    "You must complete the code for the `word_movers_similarity` function. The function takes as input the list of 1st sentences, the list of 2nd sentences and the word embedding model obtained by the `load_model` function.  The `word_movers_similarity` function must compute the Word Mover's Distance between each pair of sentences. Check the [Word Mover’s Distance\n",
    "](https://radimrehurek.com/gensim/auto_examples/tutorials/run_wmd.html) and the [KeyedVectors](https://radimrehurek.com/gensim/models/keyedvectors.html) documentation to learn what method allows running such algorithm between two lists of words. The function should convert the distance values into similarities and return them as a `list` of real-valued scores where each item corresponds to a sentence pair. This list can now be used as the new values of the `prediction` column of `data`:\n",
    "\n",
    "|     | sent1                                                                                          | sent2                                                                                                 |   gold |   prediction |\n",
    "|----:|:-----------------------------------------------------------------------------------------------|:------------------------------------------------------------------------------------------------------|-------:|-------------:|\n",
    "|   0 | A person is on a baseball team.                                                                | A person is playing basketball on a team.                                                             |    2.4 |          2.2 |\n",
    "|   1 | Our current vehicles will be in museums when everyone has their own aircraft.                  | The car needs to some work                                                                            |    0.2 |          0.5 |\n",
    "|   2 | A woman supervisor is instructing the male workers.                                            | A woman is working as a nurse.                                                                        |    1   |          0.8 |\n",
    "|   3 | A bike is next to a couple women.                                                              | A child next to a bike.                                                                               |    2   |          1.4 |\n",
    "|   4 | The group is eating while taking in a breathtaking view.                                       | A group of people take a look at an unusual tree.                                                     |    2.2 |          0.9 |\n",
    "|  ... | ... | ... | ... | ... |\n",
    "| 245 | A brown dog is jumping.                                                                        | A brown dog is jumping                                                                                |    5   |          5   |\n",
    "| 246 | the man is catching a ball                                                                     | A man is kicking a ball.                                                                              |    3   |          2.6 |\n",
    "| 247 | Two men are sitting in the room.                                                               | Two men are standing in a room.                                                                       |    3   |          2.9 |\n",
    "| 248 | A group of teenagers in red shirts are smiling.                                                | A group of people are wearing orange shirts.                                                          |    1.2 |          1.4 |\n",
    "| 249 | The woman is waiting for her date.                                                             | The woman is on her way to a date.                                                                    |    3.2 |          2.7 |"
   ]
  },
  {
   "cell_type": "code",
   "execution_count": 80,
   "id": "608c3a5f",
   "metadata": {},
   "outputs": [],
   "source": [
    "def word_movers_similarity(sent1_processed, sent2_processed, model):\n",
    "\n",
    "    wm_similarity = []\n",
    "\n",
    "    for i,j in zip(sent1_processed, sent2_processed):\n",
    "\n",
    "        dist = model.wmdistance(i, j)\n",
    "        \n",
    "        if dist == float('inf'):\n",
    "            similarity = 0.0\n",
    "        else:\n",
    "            similarity = 1/(1 + dist)\n",
    "            \n",
    "        wm_similarity.append(similarity)\n",
    "\n",
    "    return wm_similarity"
   ]
  },
  {
   "cell_type": "code",
   "execution_count": 81,
   "id": "b710aa07",
   "metadata": {
    "deletable": false,
    "editable": false
   },
   "outputs": [
    {
     "data": {
      "text/html": [
       "<div>\n",
       "<style scoped>\n",
       "    .dataframe tbody tr th:only-of-type {\n",
       "        vertical-align: middle;\n",
       "    }\n",
       "\n",
       "    .dataframe tbody tr th {\n",
       "        vertical-align: top;\n",
       "    }\n",
       "\n",
       "    .dataframe thead th {\n",
       "        text-align: right;\n",
       "    }\n",
       "</style>\n",
       "<table border=\"1\" class=\"dataframe\">\n",
       "  <thead>\n",
       "    <tr style=\"text-align: right;\">\n",
       "      <th></th>\n",
       "      <th>sent1</th>\n",
       "      <th>sent2</th>\n",
       "      <th>gold</th>\n",
       "      <th>prediction</th>\n",
       "    </tr>\n",
       "  </thead>\n",
       "  <tbody>\n",
       "    <tr>\n",
       "      <th>0</th>\n",
       "      <td>A person is on a baseball team.</td>\n",
       "      <td>A person is playing basketball on a team.</td>\n",
       "      <td>2.4</td>\n",
       "      <td>2.2</td>\n",
       "    </tr>\n",
       "    <tr>\n",
       "      <th>1</th>\n",
       "      <td>Our current vehicles will be in museums when e...</td>\n",
       "      <td>The car needs to some work</td>\n",
       "      <td>0.2</td>\n",
       "      <td>0.5</td>\n",
       "    </tr>\n",
       "    <tr>\n",
       "      <th>2</th>\n",
       "      <td>A woman supervisor is instructing the male wor...</td>\n",
       "      <td>A woman is working as a nurse.</td>\n",
       "      <td>1.0</td>\n",
       "      <td>0.8</td>\n",
       "    </tr>\n",
       "    <tr>\n",
       "      <th>3</th>\n",
       "      <td>A bike is next to a couple women.</td>\n",
       "      <td>A child next to a bike.</td>\n",
       "      <td>2.0</td>\n",
       "      <td>1.4</td>\n",
       "    </tr>\n",
       "    <tr>\n",
       "      <th>4</th>\n",
       "      <td>The group is eating while taking in a breathta...</td>\n",
       "      <td>A group of people take a look at an unusual tree.</td>\n",
       "      <td>2.2</td>\n",
       "      <td>0.9</td>\n",
       "    </tr>\n",
       "    <tr>\n",
       "      <th>...</th>\n",
       "      <td>...</td>\n",
       "      <td>...</td>\n",
       "      <td>...</td>\n",
       "      <td>...</td>\n",
       "    </tr>\n",
       "    <tr>\n",
       "      <th>245</th>\n",
       "      <td>A brown dog is jumping.</td>\n",
       "      <td>A brown dog is jumping</td>\n",
       "      <td>5.0</td>\n",
       "      <td>5.0</td>\n",
       "    </tr>\n",
       "    <tr>\n",
       "      <th>246</th>\n",
       "      <td>the man is catching a ball</td>\n",
       "      <td>A man is kicking a ball.</td>\n",
       "      <td>3.0</td>\n",
       "      <td>2.6</td>\n",
       "    </tr>\n",
       "    <tr>\n",
       "      <th>247</th>\n",
       "      <td>Two men are sitting in the room.</td>\n",
       "      <td>Two men are standing in a room.</td>\n",
       "      <td>3.0</td>\n",
       "      <td>2.9</td>\n",
       "    </tr>\n",
       "    <tr>\n",
       "      <th>248</th>\n",
       "      <td>A group of teenagers in red shirts are smiling.</td>\n",
       "      <td>A group of people are wearing orange shirts.</td>\n",
       "      <td>1.2</td>\n",
       "      <td>1.4</td>\n",
       "    </tr>\n",
       "    <tr>\n",
       "      <th>249</th>\n",
       "      <td>The woman is waiting for her date.</td>\n",
       "      <td>The woman is on her way to a date.</td>\n",
       "      <td>3.2</td>\n",
       "      <td>2.7</td>\n",
       "    </tr>\n",
       "  </tbody>\n",
       "</table>\n",
       "<p>250 rows × 4 columns</p>\n",
       "</div>"
      ],
      "text/plain": [
       "                                                 sent1  \\\n",
       "0                      A person is on a baseball team.   \n",
       "1    Our current vehicles will be in museums when e...   \n",
       "2    A woman supervisor is instructing the male wor...   \n",
       "3                    A bike is next to a couple women.   \n",
       "4    The group is eating while taking in a breathta...   \n",
       "..                                                 ...   \n",
       "245                            A brown dog is jumping.   \n",
       "246                         the man is catching a ball   \n",
       "247                   Two men are sitting in the room.   \n",
       "248    A group of teenagers in red shirts are smiling.   \n",
       "249                 The woman is waiting for her date.   \n",
       "\n",
       "                                                 sent2  gold  prediction  \n",
       "0            A person is playing basketball on a team.   2.4         2.2  \n",
       "1                           The car needs to some work   0.2         0.5  \n",
       "2                       A woman is working as a nurse.   1.0         0.8  \n",
       "3                              A child next to a bike.   2.0         1.4  \n",
       "4    A group of people take a look at an unusual tree.   2.2         0.9  \n",
       "..                                                 ...   ...         ...  \n",
       "245                             A brown dog is jumping   5.0         5.0  \n",
       "246                           A man is kicking a ball.   3.0         2.6  \n",
       "247                    Two men are standing in a room.   3.0         2.9  \n",
       "248       A group of people are wearing orange shirts.   1.2         1.4  \n",
       "249                 The woman is on her way to a date.   3.2         2.7  \n",
       "\n",
       "[250 rows x 4 columns]"
      ]
     },
     "execution_count": 81,
     "metadata": {},
     "output_type": "execute_result"
    }
   ],
   "source": [
    "data[\"prediction\"] = word_movers_similarity(sent1_processed, sent2_processed, model)\n",
    "data[\"prediction\"] = scale_similarities(data[\"prediction\"].values)\n",
    "data"
   ]
  },
  {
   "cell_type": "markdown",
   "id": "941fdcff",
   "metadata": {
    "deletable": false,
    "editable": false
   },
   "source": [
    "In this dasaset, Word Mover's Distance should provide an improvement over cosine similarity.\n",
    "\n",
    "> Pearson correlation: 0.739"
   ]
  },
  {
   "cell_type": "code",
   "execution_count": 82,
   "id": "3876818e",
   "metadata": {
    "deletable": false,
    "editable": false
   },
   "outputs": [
    {
     "name": "stdout",
     "output_type": "stream",
     "text": [
      "Pearson correlation: 0.739\n"
     ]
    }
   ],
   "source": [
    "evaluate(data)"
   ]
  },
  {
   "cell_type": "code",
   "execution_count": null,
   "id": "a6efae44",
   "metadata": {},
   "outputs": [],
   "source": []
  }
 ],
 "metadata": {
  "kernelspec": {
   "display_name": "Python 3 (ipykernel)",
   "language": "python",
   "name": "python3"
  },
  "language_info": {
   "codemirror_mode": {
    "name": "ipython",
    "version": 3
   },
   "file_extension": ".py",
   "mimetype": "text/x-python",
   "name": "python",
   "nbconvert_exporter": "python",
   "pygments_lexer": "ipython3",
   "version": "3.12.1"
  }
 },
 "nbformat": 4,
 "nbformat_minor": 5
}
